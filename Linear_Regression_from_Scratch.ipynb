{
  "cells": [
    {
      "cell_type": "markdown",
      "metadata": {
        "id": "view-in-github",
        "colab_type": "text"
      },
      "source": [
        "<a href=\"https://colab.research.google.com/github/ExplorerGumel/Linear-Regression-from-scratch/blob/main/Linear_Regression_from_Scratch.ipynb\" target=\"_parent\"><img src=\"https://colab.research.google.com/assets/colab-badge.svg\" alt=\"Open In Colab\"/></a>"
      ]
    },
    {
      "cell_type": "markdown",
      "id": "3df9006b",
      "metadata": {
        "id": "3df9006b"
      },
      "source": [
        "# LINEAR REGRESSION ALGORITHM FROM SCRATCH\n",
        "\n",
        "\n"
      ]
    },
    {
      "cell_type": "markdown",
      "id": "3b79be60",
      "metadata": {
        "id": "3b79be60"
      },
      "source": [
        "Welcome to this notebook where we delve into the intricacies of the **Linear Regression** model without relying on external libraries like Scikit-learn. While Scikit-learn is undoubtedly a powerful tool for quick implementation, understanding the inner workings of the models we use is crucial. It allows us to grasp the underlying assumptions, limitations, and nuances of the algorithm, enabling us to make informed decisions during the modeling process. By comprehensively understanding the core principles of Linear Regression, including the concepts of slope, intercept, and the impact of outliers, we can fine-tune its parameters and identify scenarios where it excels or requires adjustments.\n",
        "\n",
        "Linear Regression has a rich history in statistics, tracing its roots back to the early 19th century. Its versatility and simplicity have contributed to its widespread adoption in a multitude of fields, ranging from social sciences to business analytics. This model serves as the cornerstone of predictive analytics, providing a solid foundation for more complex machine learning techniques. In this notebook, we'll unravel the fundamental concepts behind this powerful tool, demystifying its implementation step by step.\n",
        "\n",
        "Linear Regression operates on the principle of fitting a straight line to a set of data points, allowing us to understand the impact of one variable on another. By estimating the coefficients of the line namely the slope and the intercept, it enables us to make predictions and draw insights from data.\n",
        "\n",
        "<img src=\"/content/linear-regression.png\" style=\"width:400px;\">\n",
        "\n",
        "\n",
        "\n",
        "The task of the linear regression model is fit that data points to the best line of fit (line drawn) by making the difference the data points and line of fit as small as possible through adjusting the weights and bias.\n",
        "\n",
        "You can describe a simple linear regression model as\n",
        "\n",
        "$$\\hat{y} = wx + b,\\tag{1}$$\n",
        "\n",
        "where $\\hat{y}$ is a prediction of dependent variable $y$ based on independent variable $x$ using a line equation with the slope $w$ and intercept $b$.\n",
        "\n",
        "Given a set of training data points $(x_1, y_1)$, ..., $(x_m, y_m)$, you will find the \"best\" fitting line - such parameters $w$ and $b$ that the differences between original values $y_i$ and predicted values $\\hat{y}_i = wx_i + b$ are minimum."
      ]
    },
    {
      "cell_type": "markdown",
      "id": "3fd17f26",
      "metadata": {
        "id": "3fd17f26"
      },
      "source": [
        "Linear Regression achieve this by performing as follows;\n",
        "\n",
        "1. Initialize the Model's Parameters:\n",
        "In the initial stage, the model randomly assigns values to the weights and bias, setting the foundation for the subsequent computations.\n",
        "\n",
        "2. Implement Forward Propagation (Calculate the Perceptron Output):\n",
        "Building upon the initialized parameters, the model engages in forward propagation, estimating the predicted output $\\hat{Y}$ using the equation:\n",
        "\n",
        "$$\\hat{Y} = WX + b,\\$$\n",
        "\n",
        "where $W$ represents the weights, $X$ denotes the input, and $b$ signifies the bias.\n",
        "\n",
        "3. Implement Backward Propagation (Calculate Required Corrections for the Parameters):\n",
        "This phase involves computing the gradients and derivatives to determine the necessary adjustments for the parameters. It aids in understanding how changes in the input variables influence the output and assists in refining the model's predictive accuracy.\n",
        "To correct the parameters $W$ and $b$ from the randomly initialize values, we calculate the difference between the prediction obtained from **Forward propagation** to the dataset's Y value\n",
        "\n",
        "$$\\mathcal{L}\\left(w, b\\right)  = \\frac{1}{2m}\\sum_{i=1}^{m} \\left(\\hat{y}^{(i)} - y^{(i)}\\right)^2.$$\n",
        "\n",
        "This function is called the sum of squares **cost function**. The aim is to optimize the cost function during the training, which will minimize the differences between original values $y^{(i)}$ and predicted values $\\hat{y}^{(i)}$.\n",
        "\n",
        "When your weights were just initialized with some random values, and no training was done yet, you can't expect good results. You need to calculate the adjustments for the weight and bias, minimizing the cost function. This process is called **backward propagation**.\n",
        "\n",
        "According to the gradient descent algorithm, you can calculate partial derivatives as:\n",
        "\n",
        "\\begin{align}\n",
        "\\frac{\\partial \\mathcal{L} }{ \\partial w } &=\n",
        "\\frac{1}{m}\\sum_{i=1}^{m} \\left(\\hat{y}^{(i)} - y^{(i)}\\right)x^{(i)},\\\\\n",
        "\\frac{\\partial \\mathcal{L} }{ \\partial b } &=\n",
        "\\frac{1}{m}\\sum_{i=1}^{m} \\left(\\hat{y}^{(i)} - y^{(i)}\\right).\n",
        "\\end{align}\n",
        "\n",
        "\n",
        "4. Update Parameters:\n",
        "Based on the corrections obtained from the backward propagation, the model updates the weights and bias, fine-tuning the relationship between the input and output. This iterative process continues until the model converges to an optimal solution.\n",
        "\n",
        "\\begin{align}\n",
        "w &= w - \\alpha \\frac{\\partial \\mathcal{L} }{ \\partial w },\\\\\n",
        "b &= b - \\alpha \\frac{\\partial \\mathcal{L} }{ \\partial b },\n",
        "\\end{align}\n",
        "\n",
        "where $\\alpha$ is the learning rate. Then repeat the process until the cost function stops decreasing.\n",
        "\n",
        "\n",
        "5. Make Predictions:\n",
        "With the refined parameters, the model becomes adept at making predictions on new data points, enabling us to infer outcomes based on the learned relationships between the variables.\n",
        "\n"
      ]
    },
    {
      "cell_type": "markdown",
      "id": "1e797630",
      "metadata": {
        "id": "1e797630"
      },
      "source": [
        "By comprehending these fundamental steps, we gain deeper insights into how Linear Regression functions and we are going explore of these step intuitively.\n",
        "\n",
        "Alright, let's get going"
      ]
    },
    {
      "cell_type": "code",
      "execution_count": null,
      "id": "dd5b93d9",
      "metadata": {
        "id": "dd5b93d9"
      },
      "outputs": [],
      "source": [
        "#importing the necessary libraries\n",
        "\n",
        "import numpy as np\n",
        "import pandas as pd\n",
        "import matplotlib.pyplot as plt\n",
        "import seaborn as sns"
      ]
    },
    {
      "cell_type": "code",
      "execution_count": null,
      "id": "33e5597c",
      "metadata": {
        "id": "33e5597c",
        "outputId": "e9ca388e-9b3b-43ed-dd2c-7490f124ec97"
      },
      "outputs": [
        {
          "data": {
            "text/html": [
              "<div>\n",
              "<style scoped>\n",
              "    .dataframe tbody tr th:only-of-type {\n",
              "        vertical-align: middle;\n",
              "    }\n",
              "\n",
              "    .dataframe tbody tr th {\n",
              "        vertical-align: top;\n",
              "    }\n",
              "\n",
              "    .dataframe thead th {\n",
              "        text-align: right;\n",
              "    }\n",
              "</style>\n",
              "<table border=\"1\" class=\"dataframe\">\n",
              "  <thead>\n",
              "    <tr style=\"text-align: right;\">\n",
              "      <th></th>\n",
              "      <th>Model Year</th>\n",
              "      <th>Make</th>\n",
              "      <th>Model</th>\n",
              "      <th>Vehicle Class</th>\n",
              "      <th>Engine Size(L)</th>\n",
              "      <th>Cylinders</th>\n",
              "      <th>Transmission</th>\n",
              "      <th>Fuel Type</th>\n",
              "      <th>Fuel Consumption (City (L/100 km)</th>\n",
              "      <th>Fuel Consumption(Hwy (L/100 km))</th>\n",
              "      <th>Fuel Consumption(Comb (L/100 km))</th>\n",
              "      <th>Fuel Consumption(Comb (mpg))</th>\n",
              "      <th>CO2 Emissions(g/km)</th>\n",
              "      <th>CO2 Rating</th>\n",
              "      <th>Smog Rating</th>\n",
              "    </tr>\n",
              "  </thead>\n",
              "  <tbody>\n",
              "    <tr>\n",
              "      <th>0</th>\n",
              "      <td>2022</td>\n",
              "      <td>Acura</td>\n",
              "      <td>ILX</td>\n",
              "      <td>Compact</td>\n",
              "      <td>2.4</td>\n",
              "      <td>4</td>\n",
              "      <td>AM8</td>\n",
              "      <td>Z</td>\n",
              "      <td>9.9</td>\n",
              "      <td>7.0</td>\n",
              "      <td>8.6</td>\n",
              "      <td>33</td>\n",
              "      <td>200</td>\n",
              "      <td>6</td>\n",
              "      <td>3</td>\n",
              "    </tr>\n",
              "    <tr>\n",
              "      <th>1</th>\n",
              "      <td>2022</td>\n",
              "      <td>Acura</td>\n",
              "      <td>MDX SH-AWD</td>\n",
              "      <td>SUV: Small</td>\n",
              "      <td>3.5</td>\n",
              "      <td>6</td>\n",
              "      <td>AS10</td>\n",
              "      <td>Z</td>\n",
              "      <td>12.6</td>\n",
              "      <td>9.4</td>\n",
              "      <td>11.2</td>\n",
              "      <td>25</td>\n",
              "      <td>263</td>\n",
              "      <td>4</td>\n",
              "      <td>5</td>\n",
              "    </tr>\n",
              "    <tr>\n",
              "      <th>2</th>\n",
              "      <td>2022</td>\n",
              "      <td>Acura</td>\n",
              "      <td>RDX SH-AWD</td>\n",
              "      <td>SUV: Small</td>\n",
              "      <td>2.0</td>\n",
              "      <td>4</td>\n",
              "      <td>AS10</td>\n",
              "      <td>Z</td>\n",
              "      <td>11.0</td>\n",
              "      <td>8.6</td>\n",
              "      <td>9.9</td>\n",
              "      <td>29</td>\n",
              "      <td>232</td>\n",
              "      <td>5</td>\n",
              "      <td>6</td>\n",
              "    </tr>\n",
              "    <tr>\n",
              "      <th>3</th>\n",
              "      <td>2022</td>\n",
              "      <td>Acura</td>\n",
              "      <td>RDX SH-AWD A-SPEC</td>\n",
              "      <td>SUV: Small</td>\n",
              "      <td>2.0</td>\n",
              "      <td>4</td>\n",
              "      <td>AS10</td>\n",
              "      <td>Z</td>\n",
              "      <td>11.3</td>\n",
              "      <td>9.1</td>\n",
              "      <td>10.3</td>\n",
              "      <td>27</td>\n",
              "      <td>242</td>\n",
              "      <td>5</td>\n",
              "      <td>6</td>\n",
              "    </tr>\n",
              "    <tr>\n",
              "      <th>4</th>\n",
              "      <td>2022</td>\n",
              "      <td>Acura</td>\n",
              "      <td>TLX SH-AWD</td>\n",
              "      <td>Compact</td>\n",
              "      <td>2.0</td>\n",
              "      <td>4</td>\n",
              "      <td>AS10</td>\n",
              "      <td>Z</td>\n",
              "      <td>11.2</td>\n",
              "      <td>8.0</td>\n",
              "      <td>9.8</td>\n",
              "      <td>29</td>\n",
              "      <td>230</td>\n",
              "      <td>5</td>\n",
              "      <td>7</td>\n",
              "    </tr>\n",
              "  </tbody>\n",
              "</table>\n",
              "</div>"
            ],
            "text/plain": [
              "   Model Year   Make              Model Vehicle Class  Engine Size(L)  \\\n",
              "0        2022  Acura                ILX       Compact             2.4   \n",
              "1        2022  Acura         MDX SH-AWD    SUV: Small             3.5   \n",
              "2        2022  Acura         RDX SH-AWD    SUV: Small             2.0   \n",
              "3        2022  Acura  RDX SH-AWD A-SPEC    SUV: Small             2.0   \n",
              "4        2022  Acura         TLX SH-AWD       Compact             2.0   \n",
              "\n",
              "   Cylinders Transmission Fuel Type  Fuel Consumption (City (L/100 km)  \\\n",
              "0          4          AM8         Z                                9.9   \n",
              "1          6         AS10         Z                               12.6   \n",
              "2          4         AS10         Z                               11.0   \n",
              "3          4         AS10         Z                               11.3   \n",
              "4          4         AS10         Z                               11.2   \n",
              "\n",
              "   Fuel Consumption(Hwy (L/100 km))  Fuel Consumption(Comb (L/100 km))  \\\n",
              "0                               7.0                                8.6   \n",
              "1                               9.4                               11.2   \n",
              "2                               8.6                                9.9   \n",
              "3                               9.1                               10.3   \n",
              "4                               8.0                                9.8   \n",
              "\n",
              "   Fuel Consumption(Comb (mpg))  CO2 Emissions(g/km)  CO2 Rating  Smog Rating  \n",
              "0                            33                  200           6            3  \n",
              "1                            25                  263           4            5  \n",
              "2                            29                  232           5            6  \n",
              "3                            27                  242           5            6  \n",
              "4                            29                  230           5            7  "
            ]
          },
          "execution_count": 2,
          "metadata": {},
          "output_type": "execute_result"
        }
      ],
      "source": [
        "data = pd.read_csv(\"D:\\ML DATASETS\\MY2022 Fuel Consumption Ratings.csv\")\n",
        "data.head()"
      ]
    },
    {
      "cell_type": "code",
      "execution_count": null,
      "id": "8ecd7144",
      "metadata": {
        "id": "8ecd7144",
        "outputId": "37492ec3-eec2-4cb9-811c-e092e5fa7fcf"
      },
      "outputs": [
        {
          "data": {
            "text/plain": [
              "(946, 15)"
            ]
          },
          "execution_count": 3,
          "metadata": {},
          "output_type": "execute_result"
        }
      ],
      "source": [
        "data.shape"
      ]
    },
    {
      "cell_type": "markdown",
      "id": "fae3f071",
      "metadata": {
        "id": "fae3f071"
      },
      "source": [
        "As observed, the dataset comprises 946 samples with 15 features/variables. However, for the purpose of this notebook, which primarily aims to showcase the step-by-step implementation, the decision has been made to predict **Fuel Consumption(Comb (L/100 km))** based on the three most correlated features."
      ]
    },
    {
      "cell_type": "code",
      "execution_count": null,
      "id": "57855d27",
      "metadata": {
        "id": "57855d27",
        "outputId": "87cca8f8-d77d-4c42-bf54-2f55f4867bce"
      },
      "outputs": [
        {
          "data": {
            "text/html": [
              "<div>\n",
              "<style scoped>\n",
              "    .dataframe tbody tr th:only-of-type {\n",
              "        vertical-align: middle;\n",
              "    }\n",
              "\n",
              "    .dataframe tbody tr th {\n",
              "        vertical-align: top;\n",
              "    }\n",
              "\n",
              "    .dataframe thead th {\n",
              "        text-align: right;\n",
              "    }\n",
              "</style>\n",
              "<table border=\"1\" class=\"dataframe\">\n",
              "  <thead>\n",
              "    <tr style=\"text-align: right;\">\n",
              "      <th></th>\n",
              "      <th>Model Year</th>\n",
              "      <th>Engine Size(L)</th>\n",
              "      <th>Cylinders</th>\n",
              "      <th>Fuel Consumption (City (L/100 km)</th>\n",
              "      <th>Fuel Consumption(Hwy (L/100 km))</th>\n",
              "      <th>Fuel Consumption(Comb (L/100 km))</th>\n",
              "      <th>Fuel Consumption(Comb (mpg))</th>\n",
              "      <th>CO2 Emissions(g/km)</th>\n",
              "      <th>CO2 Rating</th>\n",
              "      <th>Smog Rating</th>\n",
              "    </tr>\n",
              "  </thead>\n",
              "  <tbody>\n",
              "    <tr>\n",
              "      <th>Model Year</th>\n",
              "      <td>NaN</td>\n",
              "      <td>NaN</td>\n",
              "      <td>NaN</td>\n",
              "      <td>NaN</td>\n",
              "      <td>NaN</td>\n",
              "      <td>NaN</td>\n",
              "      <td>NaN</td>\n",
              "      <td>NaN</td>\n",
              "      <td>NaN</td>\n",
              "      <td>NaN</td>\n",
              "    </tr>\n",
              "    <tr>\n",
              "      <th>Engine Size(L)</th>\n",
              "      <td>NaN</td>\n",
              "      <td>1.000000</td>\n",
              "      <td>0.920698</td>\n",
              "      <td>0.834925</td>\n",
              "      <td>0.749374</td>\n",
              "      <td>0.818694</td>\n",
              "      <td>-0.704163</td>\n",
              "      <td>0.824188</td>\n",
              "      <td>-0.766333</td>\n",
              "      <td>-0.448239</td>\n",
              "    </tr>\n",
              "    <tr>\n",
              "      <th>Cylinders</th>\n",
              "      <td>NaN</td>\n",
              "      <td>0.920698</td>\n",
              "      <td>1.000000</td>\n",
              "      <td>0.845688</td>\n",
              "      <td>0.737652</td>\n",
              "      <td>0.821718</td>\n",
              "      <td>-0.693594</td>\n",
              "      <td>0.833241</td>\n",
              "      <td>-0.762157</td>\n",
              "      <td>-0.502149</td>\n",
              "    </tr>\n",
              "    <tr>\n",
              "      <th>Fuel Consumption (City (L/100 km)</th>\n",
              "      <td>NaN</td>\n",
              "      <td>0.834925</td>\n",
              "      <td>0.845688</td>\n",
              "      <td>1.000000</td>\n",
              "      <td>0.922850</td>\n",
              "      <td>0.990321</td>\n",
              "      <td>-0.909477</td>\n",
              "      <td>0.965632</td>\n",
              "      <td>-0.920524</td>\n",
              "      <td>-0.523928</td>\n",
              "    </tr>\n",
              "    <tr>\n",
              "      <th>Fuel Consumption(Hwy (L/100 km))</th>\n",
              "      <td>NaN</td>\n",
              "      <td>0.749374</td>\n",
              "      <td>0.737652</td>\n",
              "      <td>0.922850</td>\n",
              "      <td>1.000000</td>\n",
              "      <td>0.967138</td>\n",
              "      <td>-0.877531</td>\n",
              "      <td>0.933991</td>\n",
              "      <td>-0.894668</td>\n",
              "      <td>-0.402099</td>\n",
              "    </tr>\n",
              "    <tr>\n",
              "      <th>Fuel Consumption(Comb (L/100 km))</th>\n",
              "      <td>NaN</td>\n",
              "      <td>0.818694</td>\n",
              "      <td>0.821718</td>\n",
              "      <td>0.990321</td>\n",
              "      <td>0.967138</td>\n",
              "      <td>1.000000</td>\n",
              "      <td>-0.914305</td>\n",
              "      <td>0.971671</td>\n",
              "      <td>-0.927705</td>\n",
              "      <td>-0.490473</td>\n",
              "    </tr>\n",
              "    <tr>\n",
              "      <th>Fuel Consumption(Comb (mpg))</th>\n",
              "      <td>NaN</td>\n",
              "      <td>-0.704163</td>\n",
              "      <td>-0.693594</td>\n",
              "      <td>-0.909477</td>\n",
              "      <td>-0.877531</td>\n",
              "      <td>-0.914305</td>\n",
              "      <td>1.000000</td>\n",
              "      <td>-0.913019</td>\n",
              "      <td>0.949561</td>\n",
              "      <td>0.473990</td>\n",
              "    </tr>\n",
              "    <tr>\n",
              "      <th>CO2 Emissions(g/km)</th>\n",
              "      <td>NaN</td>\n",
              "      <td>0.824188</td>\n",
              "      <td>0.833241</td>\n",
              "      <td>0.965632</td>\n",
              "      <td>0.933991</td>\n",
              "      <td>0.971671</td>\n",
              "      <td>-0.913019</td>\n",
              "      <td>1.000000</td>\n",
              "      <td>-0.954593</td>\n",
              "      <td>-0.520437</td>\n",
              "    </tr>\n",
              "    <tr>\n",
              "      <th>CO2 Rating</th>\n",
              "      <td>NaN</td>\n",
              "      <td>-0.766333</td>\n",
              "      <td>-0.762157</td>\n",
              "      <td>-0.920524</td>\n",
              "      <td>-0.894668</td>\n",
              "      <td>-0.927705</td>\n",
              "      <td>0.949561</td>\n",
              "      <td>-0.954593</td>\n",
              "      <td>1.000000</td>\n",
              "      <td>0.502625</td>\n",
              "    </tr>\n",
              "    <tr>\n",
              "      <th>Smog Rating</th>\n",
              "      <td>NaN</td>\n",
              "      <td>-0.448239</td>\n",
              "      <td>-0.502149</td>\n",
              "      <td>-0.523928</td>\n",
              "      <td>-0.402099</td>\n",
              "      <td>-0.490473</td>\n",
              "      <td>0.473990</td>\n",
              "      <td>-0.520437</td>\n",
              "      <td>0.502625</td>\n",
              "      <td>1.000000</td>\n",
              "    </tr>\n",
              "  </tbody>\n",
              "</table>\n",
              "</div>"
            ],
            "text/plain": [
              "                                   Model Year  Engine Size(L)  Cylinders  \\\n",
              "Model Year                                NaN             NaN        NaN   \n",
              "Engine Size(L)                            NaN        1.000000   0.920698   \n",
              "Cylinders                                 NaN        0.920698   1.000000   \n",
              "Fuel Consumption (City (L/100 km)         NaN        0.834925   0.845688   \n",
              "Fuel Consumption(Hwy (L/100 km))          NaN        0.749374   0.737652   \n",
              "Fuel Consumption(Comb (L/100 km))         NaN        0.818694   0.821718   \n",
              "Fuel Consumption(Comb (mpg))              NaN       -0.704163  -0.693594   \n",
              "CO2 Emissions(g/km)                       NaN        0.824188   0.833241   \n",
              "CO2 Rating                                NaN       -0.766333  -0.762157   \n",
              "Smog Rating                               NaN       -0.448239  -0.502149   \n",
              "\n",
              "                                   Fuel Consumption (City (L/100 km)  \\\n",
              "Model Year                                                       NaN   \n",
              "Engine Size(L)                                              0.834925   \n",
              "Cylinders                                                   0.845688   \n",
              "Fuel Consumption (City (L/100 km)                           1.000000   \n",
              "Fuel Consumption(Hwy (L/100 km))                            0.922850   \n",
              "Fuel Consumption(Comb (L/100 km))                           0.990321   \n",
              "Fuel Consumption(Comb (mpg))                               -0.909477   \n",
              "CO2 Emissions(g/km)                                         0.965632   \n",
              "CO2 Rating                                                 -0.920524   \n",
              "Smog Rating                                                -0.523928   \n",
              "\n",
              "                                   Fuel Consumption(Hwy (L/100 km))  \\\n",
              "Model Year                                                      NaN   \n",
              "Engine Size(L)                                             0.749374   \n",
              "Cylinders                                                  0.737652   \n",
              "Fuel Consumption (City (L/100 km)                          0.922850   \n",
              "Fuel Consumption(Hwy (L/100 km))                           1.000000   \n",
              "Fuel Consumption(Comb (L/100 km))                          0.967138   \n",
              "Fuel Consumption(Comb (mpg))                              -0.877531   \n",
              "CO2 Emissions(g/km)                                        0.933991   \n",
              "CO2 Rating                                                -0.894668   \n",
              "Smog Rating                                               -0.402099   \n",
              "\n",
              "                                   Fuel Consumption(Comb (L/100 km))  \\\n",
              "Model Year                                                       NaN   \n",
              "Engine Size(L)                                              0.818694   \n",
              "Cylinders                                                   0.821718   \n",
              "Fuel Consumption (City (L/100 km)                           0.990321   \n",
              "Fuel Consumption(Hwy (L/100 km))                            0.967138   \n",
              "Fuel Consumption(Comb (L/100 km))                           1.000000   \n",
              "Fuel Consumption(Comb (mpg))                               -0.914305   \n",
              "CO2 Emissions(g/km)                                         0.971671   \n",
              "CO2 Rating                                                 -0.927705   \n",
              "Smog Rating                                                -0.490473   \n",
              "\n",
              "                                   Fuel Consumption(Comb (mpg))  \\\n",
              "Model Year                                                  NaN   \n",
              "Engine Size(L)                                        -0.704163   \n",
              "Cylinders                                             -0.693594   \n",
              "Fuel Consumption (City (L/100 km)                     -0.909477   \n",
              "Fuel Consumption(Hwy (L/100 km))                      -0.877531   \n",
              "Fuel Consumption(Comb (L/100 km))                     -0.914305   \n",
              "Fuel Consumption(Comb (mpg))                           1.000000   \n",
              "CO2 Emissions(g/km)                                   -0.913019   \n",
              "CO2 Rating                                             0.949561   \n",
              "Smog Rating                                            0.473990   \n",
              "\n",
              "                                   CO2 Emissions(g/km)  CO2 Rating  \\\n",
              "Model Year                                         NaN         NaN   \n",
              "Engine Size(L)                                0.824188   -0.766333   \n",
              "Cylinders                                     0.833241   -0.762157   \n",
              "Fuel Consumption (City (L/100 km)             0.965632   -0.920524   \n",
              "Fuel Consumption(Hwy (L/100 km))              0.933991   -0.894668   \n",
              "Fuel Consumption(Comb (L/100 km))             0.971671   -0.927705   \n",
              "Fuel Consumption(Comb (mpg))                 -0.913019    0.949561   \n",
              "CO2 Emissions(g/km)                           1.000000   -0.954593   \n",
              "CO2 Rating                                   -0.954593    1.000000   \n",
              "Smog Rating                                  -0.520437    0.502625   \n",
              "\n",
              "                                   Smog Rating  \n",
              "Model Year                                 NaN  \n",
              "Engine Size(L)                       -0.448239  \n",
              "Cylinders                            -0.502149  \n",
              "Fuel Consumption (City (L/100 km)    -0.523928  \n",
              "Fuel Consumption(Hwy (L/100 km))     -0.402099  \n",
              "Fuel Consumption(Comb (L/100 km))    -0.490473  \n",
              "Fuel Consumption(Comb (mpg))          0.473990  \n",
              "CO2 Emissions(g/km)                  -0.520437  \n",
              "CO2 Rating                            0.502625  \n",
              "Smog Rating                           1.000000  "
            ]
          },
          "execution_count": 4,
          "metadata": {},
          "output_type": "execute_result"
        }
      ],
      "source": [
        "data.corr()"
      ]
    },
    {
      "cell_type": "code",
      "execution_count": null,
      "id": "d4eb3ced",
      "metadata": {
        "id": "d4eb3ced",
        "outputId": "2b19c71b-1193-4416-c0b7-9640fe4415c9"
      },
      "outputs": [
        {
          "data": {
            "text/html": [
              "<div>\n",
              "<style scoped>\n",
              "    .dataframe tbody tr th:only-of-type {\n",
              "        vertical-align: middle;\n",
              "    }\n",
              "\n",
              "    .dataframe tbody tr th {\n",
              "        vertical-align: top;\n",
              "    }\n",
              "\n",
              "    .dataframe thead th {\n",
              "        text-align: right;\n",
              "    }\n",
              "</style>\n",
              "<table border=\"1\" class=\"dataframe\">\n",
              "  <thead>\n",
              "    <tr style=\"text-align: right;\">\n",
              "      <th></th>\n",
              "      <th>Engine Size(L)</th>\n",
              "      <th>Cylinders</th>\n",
              "      <th>CO2 Emissions(g/km)</th>\n",
              "      <th>Fuel Consumption(Comb (L/100 km))</th>\n",
              "    </tr>\n",
              "  </thead>\n",
              "  <tbody>\n",
              "    <tr>\n",
              "      <th>0</th>\n",
              "      <td>2.4</td>\n",
              "      <td>4</td>\n",
              "      <td>200</td>\n",
              "      <td>8.6</td>\n",
              "    </tr>\n",
              "    <tr>\n",
              "      <th>1</th>\n",
              "      <td>3.5</td>\n",
              "      <td>6</td>\n",
              "      <td>263</td>\n",
              "      <td>11.2</td>\n",
              "    </tr>\n",
              "    <tr>\n",
              "      <th>2</th>\n",
              "      <td>2.0</td>\n",
              "      <td>4</td>\n",
              "      <td>232</td>\n",
              "      <td>9.9</td>\n",
              "    </tr>\n",
              "    <tr>\n",
              "      <th>3</th>\n",
              "      <td>2.0</td>\n",
              "      <td>4</td>\n",
              "      <td>242</td>\n",
              "      <td>10.3</td>\n",
              "    </tr>\n",
              "    <tr>\n",
              "      <th>4</th>\n",
              "      <td>2.0</td>\n",
              "      <td>4</td>\n",
              "      <td>230</td>\n",
              "      <td>9.8</td>\n",
              "    </tr>\n",
              "  </tbody>\n",
              "</table>\n",
              "</div>"
            ],
            "text/plain": [
              "   Engine Size(L)  Cylinders  CO2 Emissions(g/km)  \\\n",
              "0             2.4          4                  200   \n",
              "1             3.5          6                  263   \n",
              "2             2.0          4                  232   \n",
              "3             2.0          4                  242   \n",
              "4             2.0          4                  230   \n",
              "\n",
              "   Fuel Consumption(Comb (L/100 km))  \n",
              "0                                8.6  \n",
              "1                               11.2  \n",
              "2                                9.9  \n",
              "3                               10.3  \n",
              "4                                9.8  "
            ]
          },
          "execution_count": 5,
          "metadata": {},
          "output_type": "execute_result"
        }
      ],
      "source": [
        "train = data.copy()\n",
        "train = train[['Engine Size(L)','Cylinders','CO2 Emissions(g/km)','Fuel Consumption(Comb (L/100 km))']]\n",
        "train.head()"
      ]
    },
    {
      "cell_type": "code",
      "execution_count": null,
      "id": "30d687cf",
      "metadata": {
        "id": "30d687cf",
        "outputId": "90ff30fd-c169-49d9-f109-edeea61c7d06"
      },
      "outputs": [
        {
          "data": {
            "text/html": [
              "<div>\n",
              "<style scoped>\n",
              "    .dataframe tbody tr th:only-of-type {\n",
              "        vertical-align: middle;\n",
              "    }\n",
              "\n",
              "    .dataframe tbody tr th {\n",
              "        vertical-align: top;\n",
              "    }\n",
              "\n",
              "    .dataframe thead th {\n",
              "        text-align: right;\n",
              "    }\n",
              "</style>\n",
              "<table border=\"1\" class=\"dataframe\">\n",
              "  <thead>\n",
              "    <tr style=\"text-align: right;\">\n",
              "      <th></th>\n",
              "      <th>Engine Size(L)</th>\n",
              "      <th>Cylinders</th>\n",
              "      <th>CO2 Emissions(g/km)</th>\n",
              "      <th>Fuel Consumption(Comb (L/100 km))</th>\n",
              "    </tr>\n",
              "  </thead>\n",
              "  <tbody>\n",
              "    <tr>\n",
              "      <th>count</th>\n",
              "      <td>946.000000</td>\n",
              "      <td>946.000000</td>\n",
              "      <td>946.000000</td>\n",
              "      <td>946.000000</td>\n",
              "    </tr>\n",
              "    <tr>\n",
              "      <th>mean</th>\n",
              "      <td>3.198732</td>\n",
              "      <td>5.668076</td>\n",
              "      <td>259.172304</td>\n",
              "      <td>11.092072</td>\n",
              "    </tr>\n",
              "    <tr>\n",
              "      <th>std</th>\n",
              "      <td>1.374814</td>\n",
              "      <td>1.932670</td>\n",
              "      <td>64.443149</td>\n",
              "      <td>2.876276</td>\n",
              "    </tr>\n",
              "    <tr>\n",
              "      <th>min</th>\n",
              "      <td>1.200000</td>\n",
              "      <td>3.000000</td>\n",
              "      <td>94.000000</td>\n",
              "      <td>4.000000</td>\n",
              "    </tr>\n",
              "    <tr>\n",
              "      <th>25%</th>\n",
              "      <td>2.000000</td>\n",
              "      <td>4.000000</td>\n",
              "      <td>213.250000</td>\n",
              "      <td>9.100000</td>\n",
              "    </tr>\n",
              "    <tr>\n",
              "      <th>50%</th>\n",
              "      <td>3.000000</td>\n",
              "      <td>6.000000</td>\n",
              "      <td>257.000000</td>\n",
              "      <td>10.800000</td>\n",
              "    </tr>\n",
              "    <tr>\n",
              "      <th>75%</th>\n",
              "      <td>3.800000</td>\n",
              "      <td>6.000000</td>\n",
              "      <td>300.750000</td>\n",
              "      <td>12.900000</td>\n",
              "    </tr>\n",
              "    <tr>\n",
              "      <th>max</th>\n",
              "      <td>8.000000</td>\n",
              "      <td>16.000000</td>\n",
              "      <td>608.000000</td>\n",
              "      <td>26.100000</td>\n",
              "    </tr>\n",
              "  </tbody>\n",
              "</table>\n",
              "</div>"
            ],
            "text/plain": [
              "       Engine Size(L)   Cylinders  CO2 Emissions(g/km)  \\\n",
              "count      946.000000  946.000000           946.000000   \n",
              "mean         3.198732    5.668076           259.172304   \n",
              "std          1.374814    1.932670            64.443149   \n",
              "min          1.200000    3.000000            94.000000   \n",
              "25%          2.000000    4.000000           213.250000   \n",
              "50%          3.000000    6.000000           257.000000   \n",
              "75%          3.800000    6.000000           300.750000   \n",
              "max          8.000000   16.000000           608.000000   \n",
              "\n",
              "       Fuel Consumption(Comb (L/100 km))  \n",
              "count                         946.000000  \n",
              "mean                           11.092072  \n",
              "std                             2.876276  \n",
              "min                             4.000000  \n",
              "25%                             9.100000  \n",
              "50%                            10.800000  \n",
              "75%                            12.900000  \n",
              "max                            26.100000  "
            ]
          },
          "execution_count": 6,
          "metadata": {},
          "output_type": "execute_result"
        }
      ],
      "source": [
        "# Let's explore the descriptive statistics\n",
        "\n",
        "train.describe()"
      ]
    },
    {
      "cell_type": "markdown",
      "id": "13ab7278",
      "metadata": {
        "id": "13ab7278"
      },
      "source": [
        "Based on the information presented in the descriptive statistics table, it is apparent that while the minimum and maximum values of **Engine Size (L), Cylinders, and Fuel Consumption (Comb (L/100 km))** are within a similar range, the values of **CO2 Emissions (g/km)** deviate significantly from them. This discrepancy might have an adverse impact on the model, as there is a possibility that **CO2 Emissions (g/km)** could disproportionately influence the model, overshadowing the contribution of other features. Therefore, it is advisable to standardize the features, and for this purpose, Z-score scaling will be employed.\n",
        "\n",
        "\\begin{align}\n",
        "Z &= \\frac (X - \\mu) \\sigma\n",
        "\\end{align}\n",
        "\n",
        "where $X$ is a variable $\\mu$ is the mean of the variable $X$ and \\sigma is the standard deviation of X."
      ]
    },
    {
      "cell_type": "code",
      "execution_count": null,
      "id": "720ae354",
      "metadata": {
        "id": "720ae354",
        "outputId": "7429dace-3de7-4826-91e0-d00645bc7d54"
      },
      "outputs": [
        {
          "data": {
            "text/html": [
              "<div>\n",
              "<style scoped>\n",
              "    .dataframe tbody tr th:only-of-type {\n",
              "        vertical-align: middle;\n",
              "    }\n",
              "\n",
              "    .dataframe tbody tr th {\n",
              "        vertical-align: top;\n",
              "    }\n",
              "\n",
              "    .dataframe thead th {\n",
              "        text-align: right;\n",
              "    }\n",
              "</style>\n",
              "<table border=\"1\" class=\"dataframe\">\n",
              "  <thead>\n",
              "    <tr style=\"text-align: right;\">\n",
              "      <th></th>\n",
              "      <th>Engine Size(L)</th>\n",
              "      <th>Cylinders</th>\n",
              "      <th>CO2 Emissions(g/km)</th>\n",
              "      <th>Fuel Consumption(Comb (L/100 km))</th>\n",
              "    </tr>\n",
              "  </thead>\n",
              "  <tbody>\n",
              "    <tr>\n",
              "      <th>Engine Size(L)</th>\n",
              "      <td>1.000000</td>\n",
              "      <td>0.920698</td>\n",
              "      <td>0.824188</td>\n",
              "      <td>0.818694</td>\n",
              "    </tr>\n",
              "    <tr>\n",
              "      <th>Cylinders</th>\n",
              "      <td>0.920698</td>\n",
              "      <td>1.000000</td>\n",
              "      <td>0.833241</td>\n",
              "      <td>0.821718</td>\n",
              "    </tr>\n",
              "    <tr>\n",
              "      <th>CO2 Emissions(g/km)</th>\n",
              "      <td>0.824188</td>\n",
              "      <td>0.833241</td>\n",
              "      <td>1.000000</td>\n",
              "      <td>0.971671</td>\n",
              "    </tr>\n",
              "    <tr>\n",
              "      <th>Fuel Consumption(Comb (L/100 km))</th>\n",
              "      <td>0.818694</td>\n",
              "      <td>0.821718</td>\n",
              "      <td>0.971671</td>\n",
              "      <td>1.000000</td>\n",
              "    </tr>\n",
              "  </tbody>\n",
              "</table>\n",
              "</div>"
            ],
            "text/plain": [
              "                                   Engine Size(L)  Cylinders  \\\n",
              "Engine Size(L)                           1.000000   0.920698   \n",
              "Cylinders                                0.920698   1.000000   \n",
              "CO2 Emissions(g/km)                      0.824188   0.833241   \n",
              "Fuel Consumption(Comb (L/100 km))        0.818694   0.821718   \n",
              "\n",
              "                                   CO2 Emissions(g/km)  \\\n",
              "Engine Size(L)                                0.824188   \n",
              "Cylinders                                     0.833241   \n",
              "CO2 Emissions(g/km)                           1.000000   \n",
              "Fuel Consumption(Comb (L/100 km))             0.971671   \n",
              "\n",
              "                                   Fuel Consumption(Comb (L/100 km))  \n",
              "Engine Size(L)                                              0.818694  \n",
              "Cylinders                                                   0.821718  \n",
              "CO2 Emissions(g/km)                                         0.971671  \n",
              "Fuel Consumption(Comb (L/100 km))                           1.000000  "
            ]
          },
          "execution_count": 7,
          "metadata": {},
          "output_type": "execute_result"
        }
      ],
      "source": [
        "train_scaled = (train - train.mean())/train.std()\n",
        "train_scaled.corr()"
      ]
    },
    {
      "cell_type": "code",
      "execution_count": null,
      "id": "c8d3c1b9",
      "metadata": {
        "id": "c8d3c1b9",
        "outputId": "46a276eb-dfa6-46d1-976c-0f9e80919293"
      },
      "outputs": [
        {
          "name": "stdout",
          "output_type": "stream",
          "text": [
            "(946, 3) (946,)\n"
          ]
        }
      ],
      "source": [
        "X = train_scaled.drop('Fuel Consumption(Comb (L/100 km))', axis=1)\n",
        "Y = train_scaled['Fuel Consumption(Comb (L/100 km))']\n",
        "#Y = np.expand_dims(Y, axis=1)\n",
        "print(X.shape, Y.shape)"
      ]
    },
    {
      "cell_type": "markdown",
      "id": "772027fc",
      "metadata": {
        "id": "772027fc"
      },
      "source": [
        "Having standardized our features and assigned the variables X and Y, it is clear that we can now delve into the primary focus of the session, which is the implementation of Linear Regression from scratch."
      ]
    },
    {
      "cell_type": "markdown",
      "id": "4c3c6794",
      "metadata": {
        "id": "4c3c6794"
      },
      "source": [
        "<a name='3.1'></a>\n",
        "### 1. Initialize the Model's Parameters:\n",
        "\n"
      ]
    },
    {
      "cell_type": "code",
      "execution_count": null,
      "id": "c7a32484",
      "metadata": {
        "id": "c7a32484",
        "outputId": "5b8158f2-fe5b-4b71-a698-04b77e2356fe"
      },
      "outputs": [
        {
          "data": {
            "text/plain": [
              "{'W': array([-0.00703544,  0.0001437 ,  0.00154541]), 'b': 0}"
            ]
          },
          "execution_count": 9,
          "metadata": {},
          "output_type": "execute_result"
        }
      ],
      "source": [
        "def initialize_parameters(n_features):\n",
        "        \"\"\"\n",
        "        Initialize model parameters.\n",
        "\n",
        "        Parameters:\n",
        "            n_features (int): The number of features in the input data.\n",
        "        \"\"\"\n",
        "        W = np.random.randn(n_features) * 0.01\n",
        "        b = 0\n",
        "        parameters = {\"W\": W,\n",
        "                  \"b\": b}\n",
        "\n",
        "        return parameters\n",
        "\n",
        "parameters = initialize_parameters(X.shape[1])\n",
        "parameters"
      ]
    },
    {
      "cell_type": "markdown",
      "id": "48cac404",
      "metadata": {
        "id": "48cac404"
      },
      "source": [
        "### 2.  Implement Forward Propagation"
      ]
    },
    {
      "cell_type": "code",
      "execution_count": null,
      "id": "d469cb5b",
      "metadata": {
        "id": "d469cb5b",
        "outputId": "c73491f1-c54b-4911-a79c-d1d703246045"
      },
      "outputs": [
        {
          "data": {
            "text/plain": [
              "array([ 0.00254437, -0.00142523,  0.00535872,  0.00559853,  0.00531075,\n",
              "        0.00533474,  0.00096559,  0.00108549,  0.00471123,  0.004999  ])"
            ]
          },
          "execution_count": 10,
          "metadata": {},
          "output_type": "execute_result"
        }
      ],
      "source": [
        "def forward_propagation(features,params):\n",
        "        \"\"\"\n",
        "        Compute the forward pass of the linear regression model.\n",
        "\n",
        "        Parameters:\n",
        "            features (numpy.ndarray): Input data of shape (m, n_features).\n",
        "            params (float) : parameters initialiazed\n",
        "\n",
        "\n",
        "        Returns:\n",
        "            numpy.ndarray: Predictions of shape (m,).\n",
        "        \"\"\"\n",
        "        W = params['W']\n",
        "        b = params['b']\n",
        "        return np.dot(features, W) + b\n",
        "\n",
        "Y_hat = forward_propagation(X,parameters)\n",
        "Y_hat[0:10]"
      ]
    },
    {
      "cell_type": "code",
      "execution_count": null,
      "id": "ba5efb88",
      "metadata": {
        "id": "ba5efb88",
        "outputId": "18abc02f-f244-4a6d-c022-7444f8a70bdb"
      },
      "outputs": [
        {
          "data": {
            "text/plain": [
              "0.5036234716903147"
            ]
          },
          "execution_count": 11,
          "metadata": {},
          "output_type": "execute_result"
        }
      ],
      "source": [
        "def compute_cost(predictions, true):\n",
        "        \"\"\"\n",
        "        Compute the mean squared error cost.\n",
        "\n",
        "        Parameters:\n",
        "            predictions (numpy.ndarray): Predictions of shape (m,).\n",
        "\n",
        "        Returns:\n",
        "            float: Mean squared error cost.\n",
        "        \"\"\"\n",
        "        m = len(predictions)\n",
        "        cost = np.sum(np.square(predictions - true)) / (2 * m)\n",
        "        return cost\n",
        "\n",
        "cost = compute_cost(Y_hat, Y)\n",
        "\n",
        "cost"
      ]
    },
    {
      "cell_type": "markdown",
      "id": "958b477f",
      "metadata": {
        "id": "958b477f"
      },
      "source": [
        "### 3. Implement Backward Propagation"
      ]
    },
    {
      "cell_type": "code",
      "execution_count": null,
      "id": "d26972bb",
      "metadata": {
        "id": "d26972bb",
        "outputId": "558511aa-1fc1-4f32-ab0d-f7a25764c927"
      },
      "outputs": [
        {
          "data": {
            "text/plain": [
              "4.867142629730919e-15"
            ]
          },
          "execution_count": 12,
          "metadata": {},
          "output_type": "execute_result"
        }
      ],
      "source": [
        "def backward_propagation(predictions,true,features):\n",
        "        \"\"\"\n",
        "        Compute gradients for model parameters.\n",
        "\n",
        "        Parameters:\n",
        "            predictions (numpy.ndarray): Predictions of shape (m,).\n",
        "\n",
        "        Updates:\n",
        "            numpy.ndarray: Gradient of W.\n",
        "            float: Gradient of b.\n",
        "        \"\"\"\n",
        "        m = len(predictions)\n",
        "        dZ = predictions - true\n",
        "        dW = 1/m * np.dot(dZ, features, )\n",
        "        db = 1/m * np.sum(dZ)\n",
        "\n",
        "        grads = {\"dW\": dW,\n",
        "             \"db\": db}\n",
        "\n",
        "        return grads\n",
        "\n",
        "grads = backward_propagation(Y_hat, Y, X)\n",
        "\n",
        "grads['db']"
      ]
    },
    {
      "cell_type": "code",
      "execution_count": null,
      "id": "d8f06900",
      "metadata": {
        "id": "d8f06900",
        "outputId": "6c8afece-f2d3-4ae9-f0c8-382b293ca885"
      },
      "outputs": [
        {
          "data": {
            "text/plain": [
              "array([-0.82345159, -0.82589024, -0.97477322])"
            ]
          },
          "execution_count": 13,
          "metadata": {},
          "output_type": "execute_result"
        }
      ],
      "source": [
        "grads['dW']"
      ]
    },
    {
      "cell_type": "markdown",
      "id": "f8c8baca",
      "metadata": {
        "id": "f8c8baca"
      },
      "source": [
        "### 4. Update Parameters"
      ]
    },
    {
      "cell_type": "code",
      "execution_count": null,
      "id": "dde64cc8",
      "metadata": {
        "id": "dde64cc8",
        "outputId": "5e20e48a-b2cf-4fac-eaf1-a2389472412a"
      },
      "outputs": [
        {
          "name": "stdout",
          "output_type": "stream",
          "text": [
            "W updated = [0.15765488 0.16532174 0.19650006]\n",
            "b updated = -9.734285259461838e-16\n"
          ]
        }
      ],
      "source": [
        "def update_parameters(params, grads, learning_rate=0.2):\n",
        "    \"\"\"\n",
        "    Updates parameters using the gradient descent update rule\n",
        "\n",
        "    Arguments:\n",
        "    parameters -- python dictionary containing parameters\n",
        "    grads -- python dictionary containing gradients\n",
        "    learning_rate -- learning rate parameter for gradient descent\n",
        "\n",
        "    Returns:\n",
        "    parameters -- python dictionary containing updated parameters\n",
        "    \"\"\"\n",
        "    # Retrieve each parameter from the dictionary \"parameters\".\n",
        "    W = params[\"W\"]\n",
        "    b = params[\"b\"]\n",
        "\n",
        "    # Retrieve each gradient from the dictionary \"grads\".\n",
        "    dW = grads[\"dW\"]\n",
        "    db = grads[\"db\"]\n",
        "\n",
        "    # Update rule for each parameter.\n",
        "    W = W - (learning_rate * dW)\n",
        "    b = b - (learning_rate * db)\n",
        "\n",
        "    parameters = {\"W\": W,\n",
        "                  \"b\": b}\n",
        "\n",
        "    return parameters\n",
        "\n",
        "parameters_updated = update_parameters(parameters, grads)\n",
        "\n",
        "print(\"W updated = \" + str(parameters_updated[\"W\"]))\n",
        "print(\"b updated = \" + str(parameters_updated[\"b\"]))"
      ]
    },
    {
      "cell_type": "code",
      "execution_count": null,
      "id": "0da366c4",
      "metadata": {
        "id": "0da366c4",
        "outputId": "d9e3f9f7-5c6f-442b-82c9-7dfdeef65141"
      },
      "outputs": [
        {
          "name": "stdout",
          "output_type": "stream",
          "text": [
            "Going by this steps we can see that the weights and bias randomly initialized as:\n",
            "{'W': array([-0.00703544,  0.0001437 ,  0.00154541]), 'b': 0}\n",
            " has now update to:\n",
            "{'W': array([0.15765488, 0.16532174, 0.19650006]), 'b': -9.734285259461838e-16}\n"
          ]
        }
      ],
      "source": [
        "print(f\"Going by this steps we can see that the weights and bias randomly initialized as:\\n{parameters}\\n has now update to:\\n{parameters_updated}\")"
      ]
    },
    {
      "cell_type": "markdown",
      "id": "fbe8e477",
      "metadata": {
        "id": "fbe8e477"
      },
      "source": [
        "Now let's compare the **cost function** obtained using the randomly initialized weights and bias with the one obtained using the updated weights and bias"
      ]
    },
    {
      "cell_type": "code",
      "execution_count": null,
      "id": "c3be3b4e",
      "metadata": {
        "id": "c3be3b4e",
        "outputId": "e09496e0-cff8-48b2-91f5-f555034c64b2"
      },
      "outputs": [
        {
          "name": "stdout",
          "output_type": "stream",
          "text": [
            "The cost function obtained with the randomly initialize parameters is:\n",
            "0.5036234716903147\n",
            "While with the updated parameters it is reduced to:\n",
            " 0.1659692623357513\n"
          ]
        }
      ],
      "source": [
        "updated_Y_hat = forward_propagation(X,parameters_updated)\n",
        "updated_cost = compute_cost(updated_Y_hat, Y)\n",
        "\n",
        "print(f\"The cost function obtained with the randomly initialize parameters is:\\n{cost}\\nWhile with the updated parameters it is reduced to:\\n {updated_cost}\")"
      ]
    },
    {
      "cell_type": "markdown",
      "id": "39e3ca9b",
      "metadata": {
        "id": "39e3ca9b"
      },
      "source": [
        "As noted, our current implementation of the linear regression model involves a single loop of operations. However, it has become evident that a single loop may not suffice to reach the minimum point in most cases. Therefore, we are now integrating the aforementioned functions to enable us to execute the operations for the optimal number of loops."
      ]
    },
    {
      "cell_type": "code",
      "execution_count": null,
      "id": "a7771db3",
      "metadata": {
        "id": "a7771db3"
      },
      "outputs": [],
      "source": [
        "def linear_regression(features, true, num_iterations=100, learning_rate=0.2, print_cost=False):\n",
        "    \"\"\"\n",
        "    Arguments:\n",
        "    X -- Input features(Dependent variables)\n",
        "    Y -- target feature (Independent variable)\n",
        "    num_iterations -- number of iterations in the loop\n",
        "    learning_rate -- learning rate parameter for gradient descent\n",
        "    print_cost -- if True, print the cost every iteration\n",
        "\n",
        "    Returns:\n",
        "    parameters -- parameters learnt by the model. They can then be used to make predictions.\n",
        "    \"\"\"\n",
        "\n",
        "    # Loop\n",
        "\n",
        "        # Gradient descent parameter update. Inputs: \"parameters, grads, learning_rate\". Outputs: \"parameters\".\n",
        "    parameters = initialize_parameters(X.shape[1])\n",
        "\n",
        "    for i in range(num_iterations):\n",
        "\n",
        "        Y_hat = forward_propagation(features,parameters)\n",
        "        cost = compute_cost(Y_hat, true)\n",
        "        grads = backward_propagation(Y_hat, true, features)\n",
        "        parameters = update_parameters(parameters, grads, learning_rate)\n",
        "\n",
        "        if print_cost:\n",
        "            print (\"Cost after iteration %i: %f\" %(i, cost))\n",
        "\n",
        "    return parameters"
      ]
    },
    {
      "cell_type": "code",
      "execution_count": null,
      "id": "c4bfd3a4",
      "metadata": {
        "id": "c4bfd3a4",
        "outputId": "0d259285-aa8f-4b56-9496-2419ba3c2bb5"
      },
      "outputs": [
        {
          "name": "stdout",
          "output_type": "stream",
          "text": [
            "Cost after iteration 0: 0.534885\n",
            "Cost after iteration 1: 0.171106\n",
            "Cost after iteration 2: 0.092260\n",
            "Cost after iteration 3: 0.073072\n",
            "Cost after iteration 4: 0.066543\n",
            "Cost after iteration 5: 0.062852\n",
            "Cost after iteration 6: 0.059936\n",
            "Cost after iteration 7: 0.057352\n",
            "Cost after iteration 8: 0.054992\n",
            "Cost after iteration 9: 0.052822\n",
            "Cost after iteration 10: 0.050824\n",
            "Cost after iteration 11: 0.048984\n",
            "Cost after iteration 12: 0.047289\n",
            "Cost after iteration 13: 0.045727\n",
            "Cost after iteration 14: 0.044288\n",
            "Cost after iteration 15: 0.042962\n",
            "Cost after iteration 16: 0.041741\n",
            "Cost after iteration 17: 0.040616\n",
            "Cost after iteration 18: 0.039579\n",
            "Cost after iteration 19: 0.038624\n",
            "Cost after iteration 20: 0.037744\n",
            "Cost after iteration 21: 0.036933\n",
            "Cost after iteration 22: 0.036187\n",
            "Cost after iteration 23: 0.035498\n",
            "Cost after iteration 24: 0.034864\n",
            "Cost after iteration 25: 0.034280\n",
            "Cost after iteration 26: 0.033742\n",
            "Cost after iteration 27: 0.033246\n",
            "Cost after iteration 28: 0.032789\n",
            "Cost after iteration 29: 0.032368\n",
            "Cost after iteration 30: 0.031980\n",
            "Cost after iteration 31: 0.031622\n",
            "Cost after iteration 32: 0.031293\n",
            "Cost after iteration 33: 0.030989\n",
            "Cost after iteration 34: 0.030710\n",
            "Cost after iteration 35: 0.030452\n",
            "Cost after iteration 36: 0.030214\n",
            "Cost after iteration 37: 0.029995\n",
            "Cost after iteration 38: 0.029794\n",
            "Cost after iteration 39: 0.029608\n",
            "Cost after iteration 40: 0.029436\n",
            "Cost after iteration 41: 0.029278\n",
            "Cost after iteration 42: 0.029133\n",
            "Cost after iteration 43: 0.028999\n",
            "Cost after iteration 44: 0.028875\n",
            "Cost after iteration 45: 0.028761\n",
            "Cost after iteration 46: 0.028656\n",
            "Cost after iteration 47: 0.028559\n",
            "Cost after iteration 48: 0.028470\n",
            "Cost after iteration 49: 0.028387\n",
            "Cost after iteration 50: 0.028311\n",
            "Cost after iteration 51: 0.028241\n",
            "Cost after iteration 52: 0.028177\n",
            "Cost after iteration 53: 0.028117\n",
            "Cost after iteration 54: 0.028062\n",
            "Cost after iteration 55: 0.028012\n",
            "Cost after iteration 56: 0.027965\n",
            "Cost after iteration 57: 0.027922\n",
            "Cost after iteration 58: 0.027882\n",
            "Cost after iteration 59: 0.027846\n",
            "Cost after iteration 60: 0.027812\n",
            "Cost after iteration 61: 0.027781\n",
            "Cost after iteration 62: 0.027752\n",
            "Cost after iteration 63: 0.027726\n",
            "Cost after iteration 64: 0.027701\n",
            "Cost after iteration 65: 0.027679\n",
            "Cost after iteration 66: 0.027658\n",
            "Cost after iteration 67: 0.027638\n",
            "Cost after iteration 68: 0.027621\n",
            "Cost after iteration 69: 0.027604\n",
            "Cost after iteration 70: 0.027589\n",
            "Cost after iteration 71: 0.027575\n",
            "Cost after iteration 72: 0.027562\n",
            "Cost after iteration 73: 0.027550\n",
            "Cost after iteration 74: 0.027539\n",
            "Cost after iteration 75: 0.027529\n",
            "Cost after iteration 76: 0.027520\n",
            "Cost after iteration 77: 0.027511\n",
            "Cost after iteration 78: 0.027503\n",
            "Cost after iteration 79: 0.027495\n",
            "Cost after iteration 80: 0.027489\n",
            "Cost after iteration 81: 0.027482\n",
            "Cost after iteration 82: 0.027476\n",
            "Cost after iteration 83: 0.027471\n",
            "Cost after iteration 84: 0.027466\n",
            "Cost after iteration 85: 0.027461\n",
            "Cost after iteration 86: 0.027457\n",
            "Cost after iteration 87: 0.027453\n",
            "Cost after iteration 88: 0.027449\n",
            "Cost after iteration 89: 0.027446\n",
            "Cost after iteration 90: 0.027443\n",
            "Cost after iteration 91: 0.027440\n",
            "Cost after iteration 92: 0.027437\n",
            "Cost after iteration 93: 0.027434\n",
            "Cost after iteration 94: 0.027432\n",
            "Cost after iteration 95: 0.027430\n",
            "Cost after iteration 96: 0.027428\n",
            "Cost after iteration 97: 0.027426\n",
            "Cost after iteration 98: 0.027424\n",
            "Cost after iteration 99: 0.027423\n",
            "W = [0.05563022 0.00813399 0.91701756]\n",
            "b = -4.9123965407558105e-15\n"
          ]
        }
      ],
      "source": [
        "parameters_simple = linear_regression(X, Y, num_iterations=100, learning_rate=0.2, print_cost=True)\n",
        "print(\"W = \" + str(parameters_simple[\"W\"]))\n",
        "print(\"b = \" + str(parameters_simple[\"b\"]))\n",
        "\n",
        "W_simple = parameters[\"W\"]\n",
        "b_simple = parameters[\"b\"]"
      ]
    },
    {
      "cell_type": "markdown",
      "id": "82708add",
      "metadata": {
        "id": "82708add"
      },
      "source": [
        "After a mere 100 iterations, the implementation effectively minimized the cost, substantially reducing the error between the predicted and actual y values, all achieved using the powerful combination of Pandas and NumPy."
      ]
    },
    {
      "cell_type": "code",
      "execution_count": null,
      "id": "361a707b",
      "metadata": {
        "id": "361a707b"
      },
      "outputs": [],
      "source": []
    }
  ],
  "metadata": {
    "kernelspec": {
      "display_name": "Python 3",
      "language": "python",
      "name": "python3"
    },
    "language_info": {
      "codemirror_mode": {
        "name": "ipython",
        "version": 3
      },
      "file_extension": ".py",
      "mimetype": "text/x-python",
      "name": "python",
      "nbconvert_exporter": "python",
      "pygments_lexer": "ipython3",
      "version": "3.8.8"
    },
    "colab": {
      "provenance": [],
      "include_colab_link": true
    }
  },
  "nbformat": 4,
  "nbformat_minor": 5
}